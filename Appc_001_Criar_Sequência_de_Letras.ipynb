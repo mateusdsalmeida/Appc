{
  "nbformat": 4,
  "nbformat_minor": 0,
  "metadata": {
    "colab": {
      "provenance": [],
      "authorship_tag": "ABX9TyPu2k5RBlbzB0bgwAPLsgAR",
      "include_colab_link": true
    },
    "kernelspec": {
      "name": "python3",
      "display_name": "Python 3"
    },
    "language_info": {
      "name": "python"
    }
  },
  "cells": [
    {
      "cell_type": "markdown",
      "metadata": {
        "id": "view-in-github",
        "colab_type": "text"
      },
      "source": [
        "<a href=\"https://colab.research.google.com/github/mateusdsalmeida/Appc/blob/main/Appc_001_Criar_Sequ%C3%AAncia_de_Letras.ipynb\" target=\"_parent\"><img src=\"https://colab.research.google.com/assets/colab-badge.svg\" alt=\"Open In Colab\"/></a>"
      ]
    },
    {
      "cell_type": "markdown",
      "source": [
        "**Esse código tem o objetivo de criar uma sequência de letras do alfabeto iniciando em A e terminando em ZZZ**\n",
        "\n",
        "Autor: Mateus Almeida;\n",
        "Data: 29/03/2023"
      ],
      "metadata": {
        "id": "nxEuaXI7C7kB"
      }
    },
    {
      "cell_type": "code",
      "execution_count": null,
      "metadata": {
        "id": "OcJusFMuCm1D"
      },
      "outputs": [],
      "source": [
        "# Importando as bibliotecas\n",
        "import pandas as pd"
      ]
    },
    {
      "cell_type": "code",
      "source": [
        "# Criando listas vazias para armazenar a sequência\n",
        "output1 = []\n",
        "output2 = []\n",
        "output3 = []\n",
        "\n",
        "# Criando a primeira lista com sequência de A a Z\n",
        "for i in range(26):\n",
        "    output1.append(chr(65+i))\n",
        "\n",
        "# Criando a segunda lista com sequência de AA a ZZ\n",
        "for i in range(26):\n",
        "    for j in range(26):\n",
        "        output2.append(chr(65+i) + chr(65+j))\n",
        "\n",
        "# Criando a segunda lista com sequência de AAA a ZZZ\n",
        "for i in range(26):\n",
        "    for j in range(26):\n",
        "        for k in range(26):\n",
        "            output3.append(chr(65+i) + chr(65+j) + chr(65+k))\n",
        "\n",
        "# Unificando as três listas em uma só\n",
        "output = output1 + output2 + output3"
      ],
      "metadata": {
        "id": "Gv6kPUhBC1NN"
      },
      "execution_count": null,
      "outputs": []
    },
    {
      "cell_type": "code",
      "source": [
        "# Transformando a lista em um DataFrame\n",
        "df = pd.DataFrame({'Sequência': output})\n",
        "\n",
        "# Imprimindo o Dataframe\n",
        "print(df)"
      ],
      "metadata": {
        "colab": {
          "base_uri": "https://localhost:8080/"
        },
        "id": "Jfw3NO_FC3Dl",
        "outputId": "66fed56e-462f-4c1d-b3e3-36cd9fbe81d9"
      },
      "execution_count": null,
      "outputs": [
        {
          "output_type": "stream",
          "name": "stdout",
          "text": [
            "      Sequência\n",
            "0             A\n",
            "1             B\n",
            "2             C\n",
            "3             D\n",
            "4             E\n",
            "...         ...\n",
            "18273       ZZV\n",
            "18274       ZZW\n",
            "18275       ZZX\n",
            "18276       ZZY\n",
            "18277       ZZZ\n",
            "\n",
            "[18278 rows x 1 columns]\n"
          ]
        }
      ]
    },
    {
      "cell_type": "code",
      "source": [
        "# Exportando o arquivo\n",
        "df.to_csv(\"AZ3.txt\", index=False)"
      ],
      "metadata": {
        "id": "LIvwi-dnC4Xr"
      },
      "execution_count": null,
      "outputs": []
    }
  ]
}